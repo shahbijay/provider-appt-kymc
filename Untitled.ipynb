{
 "cells": [
  {
   "cell_type": "markdown",
   "id": "f70317a7",
   "metadata": {},
   "source": [
    "Import Required Libraries."
   ]
  },
  {
   "cell_type": "code",
   "execution_count": null,
   "id": "38458e99",
   "metadata": {},
   "outputs": [],
   "source": [
    "import pandas as pd\n",
    "import numpy as np\n",
    "import seaborn as sn\n",
    "import matplotlib\n",
    "import matplotlib.pyplot as plt"
   ]
  },
  {
   "cell_type": "markdown",
   "id": "46a92426",
   "metadata": {},
   "source": [
    "Import CSV file."
   ]
  }
 ],
 "metadata": {
  "kernelspec": {
   "display_name": "Python 3 (ipykernel)",
   "language": "python",
   "name": "python3"
  },
  "language_info": {
   "codemirror_mode": {
    "name": "ipython",
    "version": 3
   },
   "file_extension": ".py",
   "mimetype": "text/x-python",
   "name": "python",
   "nbconvert_exporter": "python",
   "pygments_lexer": "ipython3",
   "version": "3.9.13"
  }
 },
 "nbformat": 4,
 "nbformat_minor": 5
}
